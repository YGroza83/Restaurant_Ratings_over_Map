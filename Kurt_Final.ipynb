{
 "cells": [
  {
   "cell_type": "code",
   "execution_count": 2,
   "metadata": {},
   "outputs": [],
   "source": [
    "# Dependencies and Setup\n",
    "from scipy.stats import linregress\n",
    "import matplotlib.pyplot as plt\n",
    "import matplotlib.cm as cm\n",
    "import matplotlib.mlab as mlab\n",
    "import pandas as pd\n",
    "import scipy.stats as st\n",
    "import numpy as np\n",
    "import statistics"
   ]
  },
  {
   "cell_type": "code",
   "execution_count": 3,
   "metadata": {},
   "outputs": [
    {
     "data": {
      "text/html": [
       "<div>\n",
       "<style scoped>\n",
       "    .dataframe tbody tr th:only-of-type {\n",
       "        vertical-align: middle;\n",
       "    }\n",
       "\n",
       "    .dataframe tbody tr th {\n",
       "        vertical-align: top;\n",
       "    }\n",
       "\n",
       "    .dataframe thead th {\n",
       "        text-align: right;\n",
       "    }\n",
       "</style>\n",
       "<table border=\"1\" class=\"dataframe\">\n",
       "  <thead>\n",
       "    <tr style=\"text-align: right;\">\n",
       "      <th></th>\n",
       "      <th>level_0</th>\n",
       "      <th>index</th>\n",
       "      <th>Place ID</th>\n",
       "      <th>Name</th>\n",
       "      <th>Latitude</th>\n",
       "      <th>Longitude</th>\n",
       "      <th>Address</th>\n",
       "      <th>Rating</th>\n",
       "      <th>Ratings count</th>\n",
       "      <th>Price range</th>\n",
       "      <th>City</th>\n",
       "      <th>State</th>\n",
       "      <th>Country</th>\n",
       "      <th>0</th>\n",
       "      <th>Number</th>\n",
       "    </tr>\n",
       "  </thead>\n",
       "  <tbody>\n",
       "    <tr>\n",
       "      <th>0</th>\n",
       "      <td>0</td>\n",
       "      <td>0</td>\n",
       "      <td>ChIJZQ6BEXZe14AR6olrRzitFFc</td>\n",
       "      <td>Subway</td>\n",
       "      <td>32.849288</td>\n",
       "      <td>-115.569706</td>\n",
       "      <td>RCXJ+P4 Imperial, CA, USA</td>\n",
       "      <td>4.2</td>\n",
       "      <td>72</td>\n",
       "      <td>1</td>\n",
       "      <td>Imperial</td>\n",
       "      <td>CA</td>\n",
       "      <td>USA</td>\n",
       "      <td>None</td>\n",
       "      <td>RCXJ+P4</td>\n",
       "    </tr>\n",
       "    <tr>\n",
       "      <th>1</th>\n",
       "      <td>1</td>\n",
       "      <td>1</td>\n",
       "      <td>ChIJG3vjvDda14ARQQpdsyPpiZM</td>\n",
       "      <td>Subway</td>\n",
       "      <td>32.962409</td>\n",
       "      <td>-115.545849</td>\n",
       "      <td>XF63+XM Brawley, CA, USA</td>\n",
       "      <td>3.9</td>\n",
       "      <td>24</td>\n",
       "      <td>1</td>\n",
       "      <td>Brawley</td>\n",
       "      <td>CA</td>\n",
       "      <td>USA</td>\n",
       "      <td>None</td>\n",
       "      <td>XF63+XM</td>\n",
       "    </tr>\n",
       "    <tr>\n",
       "      <th>2</th>\n",
       "      <td>2</td>\n",
       "      <td>2</td>\n",
       "      <td>ChIJ65WooQpe14ARe5yAyhIps28</td>\n",
       "      <td>Maranatha Steakhouse</td>\n",
       "      <td>32.841779</td>\n",
       "      <td>-115.568291</td>\n",
       "      <td>RCRJ+PM Imperial, CA, USA</td>\n",
       "      <td>4.5</td>\n",
       "      <td>310</td>\n",
       "      <td>2</td>\n",
       "      <td>Imperial</td>\n",
       "      <td>CA</td>\n",
       "      <td>USA</td>\n",
       "      <td>None</td>\n",
       "      <td>RCRJ+PM</td>\n",
       "    </tr>\n",
       "    <tr>\n",
       "      <th>3</th>\n",
       "      <td>3</td>\n",
       "      <td>3</td>\n",
       "      <td>ChIJP646YhRa14ARqb8dCyn0i5s</td>\n",
       "      <td>Pizza Hut</td>\n",
       "      <td>32.978951</td>\n",
       "      <td>-115.547330</td>\n",
       "      <td>XFH3+H3 Brawley, CA, USA</td>\n",
       "      <td>4.2</td>\n",
       "      <td>257</td>\n",
       "      <td>1</td>\n",
       "      <td>Brawley</td>\n",
       "      <td>CA</td>\n",
       "      <td>USA</td>\n",
       "      <td>None</td>\n",
       "      <td>XFH3+H3</td>\n",
       "    </tr>\n",
       "    <tr>\n",
       "      <th>4</th>\n",
       "      <td>4</td>\n",
       "      <td>4</td>\n",
       "      <td>ChIJH3Qkemla14ARaPGcgMIywEM</td>\n",
       "      <td>Little Caesars Pizza</td>\n",
       "      <td>32.978710</td>\n",
       "      <td>-115.537636</td>\n",
       "      <td>XFH6+FW Brawley, CA, USA</td>\n",
       "      <td>4.4</td>\n",
       "      <td>193</td>\n",
       "      <td>1</td>\n",
       "      <td>Brawley</td>\n",
       "      <td>CA</td>\n",
       "      <td>USA</td>\n",
       "      <td>None</td>\n",
       "      <td>XFH6+FW</td>\n",
       "    </tr>\n",
       "    <tr>\n",
       "      <th>...</th>\n",
       "      <td>...</td>\n",
       "      <td>...</td>\n",
       "      <td>...</td>\n",
       "      <td>...</td>\n",
       "      <td>...</td>\n",
       "      <td>...</td>\n",
       "      <td>...</td>\n",
       "      <td>...</td>\n",
       "      <td>...</td>\n",
       "      <td>...</td>\n",
       "      <td>...</td>\n",
       "      <td>...</td>\n",
       "      <td>...</td>\n",
       "      <td>...</td>\n",
       "      <td>...</td>\n",
       "    </tr>\n",
       "    <tr>\n",
       "      <th>17508</th>\n",
       "      <td>17515</td>\n",
       "      <td>17715</td>\n",
       "      <td>ChIJx0wNOvNRmogRSYAATJj5ooI</td>\n",
       "      <td>Subway</td>\n",
       "      <td>30.720205</td>\n",
       "      <td>-88.083563</td>\n",
       "      <td>PWC8+3H Mobile, AL, USA</td>\n",
       "      <td>4.1</td>\n",
       "      <td>139</td>\n",
       "      <td>1</td>\n",
       "      <td>Mobile</td>\n",
       "      <td>AL</td>\n",
       "      <td>USA</td>\n",
       "      <td>None</td>\n",
       "      <td>PWC8+3H</td>\n",
       "    </tr>\n",
       "    <tr>\n",
       "      <th>17509</th>\n",
       "      <td>17516</td>\n",
       "      <td>17716</td>\n",
       "      <td>ChIJSYlxaD-sm4gR5BR55g4OR6Q</td>\n",
       "      <td>Subway</td>\n",
       "      <td>30.764629</td>\n",
       "      <td>-88.227389</td>\n",
       "      <td>QQ7F+V2 Semmes, AL, USA</td>\n",
       "      <td>3.8</td>\n",
       "      <td>61</td>\n",
       "      <td>1</td>\n",
       "      <td>Semmes</td>\n",
       "      <td>AL</td>\n",
       "      <td>USA</td>\n",
       "      <td>None</td>\n",
       "      <td>QQ7F+V2</td>\n",
       "    </tr>\n",
       "    <tr>\n",
       "      <th>17510</th>\n",
       "      <td>17517</td>\n",
       "      <td>17717</td>\n",
       "      <td>ChIJ2UO_oSlQmogR-zLNil9KfTg</td>\n",
       "      <td>Subway</td>\n",
       "      <td>30.699927</td>\n",
       "      <td>-88.044674</td>\n",
       "      <td>MXX4+X4 Mobile, AL, USA</td>\n",
       "      <td>3.9</td>\n",
       "      <td>136</td>\n",
       "      <td>1</td>\n",
       "      <td>Mobile</td>\n",
       "      <td>AL</td>\n",
       "      <td>USA</td>\n",
       "      <td>None</td>\n",
       "      <td>MXX4+X4</td>\n",
       "    </tr>\n",
       "    <tr>\n",
       "      <th>17511</th>\n",
       "      <td>17518</td>\n",
       "      <td>17718</td>\n",
       "      <td>ChIJJxuOhgFdtUwRzFzxpSoX0JQ</td>\n",
       "      <td>Subway</td>\n",
       "      <td>44.010598</td>\n",
       "      <td>-73.164324</td>\n",
       "      <td>2R6P+67 Middlebury, VT, USA</td>\n",
       "      <td>3.9</td>\n",
       "      <td>54</td>\n",
       "      <td>1</td>\n",
       "      <td>Middlebury</td>\n",
       "      <td>VT</td>\n",
       "      <td>USA</td>\n",
       "      <td>None</td>\n",
       "      <td>2R6P+67</td>\n",
       "    </tr>\n",
       "    <tr>\n",
       "      <th>17512</th>\n",
       "      <td>17519</td>\n",
       "      <td>17719</td>\n",
       "      <td>ChIJUwqkRCJztUwRsRw4jG33wyY</td>\n",
       "      <td>Big Picture Theater &amp; Cafe</td>\n",
       "      <td>44.188415</td>\n",
       "      <td>-72.832872</td>\n",
       "      <td>55Q8+9V Waitsfield, VT, USA</td>\n",
       "      <td>4.6</td>\n",
       "      <td>144</td>\n",
       "      <td>2</td>\n",
       "      <td>Waitsfield</td>\n",
       "      <td>VT</td>\n",
       "      <td>USA</td>\n",
       "      <td>None</td>\n",
       "      <td>55Q8+9V</td>\n",
       "    </tr>\n",
       "  </tbody>\n",
       "</table>\n",
       "<p>17513 rows × 15 columns</p>\n",
       "</div>"
      ],
      "text/plain": [
       "       level_0  index                     Place ID  \\\n",
       "0            0      0  ChIJZQ6BEXZe14AR6olrRzitFFc   \n",
       "1            1      1  ChIJG3vjvDda14ARQQpdsyPpiZM   \n",
       "2            2      2  ChIJ65WooQpe14ARe5yAyhIps28   \n",
       "3            3      3  ChIJP646YhRa14ARqb8dCyn0i5s   \n",
       "4            4      4  ChIJH3Qkemla14ARaPGcgMIywEM   \n",
       "...        ...    ...                          ...   \n",
       "17508    17515  17715  ChIJx0wNOvNRmogRSYAATJj5ooI   \n",
       "17509    17516  17716  ChIJSYlxaD-sm4gR5BR55g4OR6Q   \n",
       "17510    17517  17717  ChIJ2UO_oSlQmogR-zLNil9KfTg   \n",
       "17511    17518  17718  ChIJJxuOhgFdtUwRzFzxpSoX0JQ   \n",
       "17512    17519  17719  ChIJUwqkRCJztUwRsRw4jG33wyY   \n",
       "\n",
       "                             Name   Latitude   Longitude  \\\n",
       "0                          Subway  32.849288 -115.569706   \n",
       "1                          Subway  32.962409 -115.545849   \n",
       "2            Maranatha Steakhouse  32.841779 -115.568291   \n",
       "3                       Pizza Hut  32.978951 -115.547330   \n",
       "4            Little Caesars Pizza  32.978710 -115.537636   \n",
       "...                           ...        ...         ...   \n",
       "17508                      Subway  30.720205  -88.083563   \n",
       "17509                      Subway  30.764629  -88.227389   \n",
       "17510                      Subway  30.699927  -88.044674   \n",
       "17511                      Subway  44.010598  -73.164324   \n",
       "17512  Big Picture Theater & Cafe  44.188415  -72.832872   \n",
       "\n",
       "                           Address  Rating  Ratings count  Price range  \\\n",
       "0        RCXJ+P4 Imperial, CA, USA     4.2             72            1   \n",
       "1         XF63+XM Brawley, CA, USA     3.9             24            1   \n",
       "2        RCRJ+PM Imperial, CA, USA     4.5            310            2   \n",
       "3         XFH3+H3 Brawley, CA, USA     4.2            257            1   \n",
       "4         XFH6+FW Brawley, CA, USA     4.4            193            1   \n",
       "...                            ...     ...            ...          ...   \n",
       "17508      PWC8+3H Mobile, AL, USA     4.1            139            1   \n",
       "17509      QQ7F+V2 Semmes, AL, USA     3.8             61            1   \n",
       "17510      MXX4+X4 Mobile, AL, USA     3.9            136            1   \n",
       "17511  2R6P+67 Middlebury, VT, USA     3.9             54            1   \n",
       "17512  55Q8+9V Waitsfield, VT, USA     4.6            144            2   \n",
       "\n",
       "             City State Country     0   Number  \n",
       "0        Imperial    CA     USA  None  RCXJ+P4  \n",
       "1         Brawley    CA     USA  None  XF63+XM  \n",
       "2        Imperial    CA     USA  None  RCRJ+PM  \n",
       "3         Brawley    CA     USA  None  XFH3+H3  \n",
       "4         Brawley    CA     USA  None  XFH6+FW  \n",
       "...           ...   ...     ...   ...      ...  \n",
       "17508      Mobile    AL     USA  None  PWC8+3H  \n",
       "17509      Semmes    AL     USA  None  QQ7F+V2  \n",
       "17510      Mobile    AL     USA  None  MXX4+X4  \n",
       "17511  Middlebury    VT     USA  None  2R6P+67  \n",
       "17512  Waitsfield    VT     USA  None  55Q8+9V  \n",
       "\n",
       "[17513 rows x 15 columns]"
      ]
     },
     "execution_count": 3,
     "metadata": {},
     "output_type": "execute_result"
    }
   ],
   "source": [
    "# Read the final restaurant data\n",
    "# Split the \"Address\" column into \"City\", \"State\" and \"Country\"\n",
    "data_df = pd.read_csv('Resources/LargeSample.csv')\n",
    "data_df.drop_duplicates(keep='first', inplace=True, ignore_index=True)\n",
    "data_df[[\"City\",'State','Country','0']] = data_df['Address'].str.split(',',expand=True)\n",
    "data_df[[\"Number\",'City']] = data_df['City'].str.split(' ',expand=True, n=1)\n",
    "data_df = data_df[data_df['State'].str.len() < 4].reset_index()\n",
    "data_df = data_df[data_df['Ratings count'] < 15000].reset_index()\n",
    "data_df"
   ]
  },
  {
   "cell_type": "code",
   "execution_count": 4,
   "metadata": {},
   "outputs": [
    {
     "data": {
      "text/plain": [
       "level_0          17513\n",
       "index            17513\n",
       "Place ID         17513\n",
       "Name             17513\n",
       "Latitude         17513\n",
       "Longitude        17513\n",
       "Address          17513\n",
       "Rating           17513\n",
       "Ratings count    17513\n",
       "Price range      17513\n",
       "City             17513\n",
       "State            17513\n",
       "Country          17513\n",
       "0                    0\n",
       "Number           17513\n",
       "dtype: int64"
      ]
     },
     "execution_count": 4,
     "metadata": {},
     "output_type": "execute_result"
    }
   ],
   "source": [
    "# Checking the total number of rows.\n",
    "data_df.count()"
   ]
  },
  {
   "cell_type": "code",
   "execution_count": 5,
   "metadata": {},
   "outputs": [
    {
     "data": {
      "text/plain": [
       "State\n",
       " DC    4.337500\n",
       " NJ    4.302439\n",
       " RI    4.300000\n",
       " VT    4.297917\n",
       " MA    4.250617\n",
       " MD    4.203509\n",
       " ME    4.202959\n",
       " NH    4.202273\n",
       " ID    4.185987\n",
       " SD    4.181724\n",
       "Name: Rating, dtype: float64"
      ]
     },
     "execution_count": 5,
     "metadata": {},
     "output_type": "execute_result"
    }
   ],
   "source": [
    "# Use groupby to calculate the top 10 states with the highest ratings: \n",
    "\n",
    "state_df = data_df.groupby(['State'])['Rating'].mean().nlargest(10)\n",
    "state_df"
   ]
  },
  {
   "cell_type": "code",
   "execution_count": 8,
   "metadata": {},
   "outputs": [
    {
     "data": {
      "image/png": "[encoded data removed]",
      "text/plain": [
       "<Figure size 720x360 with 1 Axes>"
      ]
     },
     "metadata": {
      "needs_background": "light"
     },
     "output_type": "display_data"
    }
   ],
   "source": [
    "# Plot the 10 states with the highest ratings using a bar chart: \n",
    "\n",
    "x_axis = np.arange(len(state_df))\n",
    "\n",
    "# plt.figure(figsize=(20,3))\n",
    "fig = plt.figure(figsize=(10,5))\n",
    "plt.bar(x_axis, state_df, color='b', alpha=0.5, align=\"center\")\n",
    "\n",
    "tick_locations = [value for value in x_axis]\n",
    "plt.xticks(tick_locations, [\"DC\", \"NJ\", \"RI\", \"VT\", \"MA\", \"MD\", \"ME\", \"NH\", \"ID\", \n",
    "                            \"SD\"], rotation=0)\n",
    "\n",
    "plt.title(\"Average Restaurant Rating of Top Ten States\")\n",
    "plt.xlabel(\"Top Ten States\")\n",
    "plt.ylabel(\"Average Rating (mean)\")\n",
    "plt.savefig(\"Images/top_10_state_ratings.png\")"
   ]
  },
  {
   "cell_type": "code",
   "execution_count": 72,
   "metadata": {},
   "outputs": [
    {
     "data": {
      "text/plain": [
       "State\n",
       " NV    3.981081\n",
       " OK    4.011724\n",
       " NM    4.024576\n",
       " UT    4.032362\n",
       " WV    4.040940\n",
       " GA    4.043026\n",
       " SC    4.047773\n",
       " TX    4.062226\n",
       " IA    4.062953\n",
       " IN    4.067681\n",
       "Name: Rating, dtype: float64"
      ]
     },
     "execution_count": 72,
     "metadata": {},
     "output_type": "execute_result"
    }
   ],
   "source": [
    "# Use groupby to calculate the 10 states with the lowest ratings: \n",
    "\n",
    "state_df = data_df.groupby(['State'])['Rating'].mean().nsmallest(10)\n",
    "state_df"
   ]
  },
  {
   "cell_type": "code",
   "execution_count": 9,
   "metadata": {},
   "outputs": [
    {
     "data": {
      "image/png": "[encoded data removed]",
      "text/plain": [
       "<Figure size 720x360 with 1 Axes>"
      ]
     },
     "metadata": {
      "needs_background": "light"
     },
     "output_type": "display_data"
    }
   ],
   "source": [
    "# Plot the 10 states with the lowest ratings using a bar chart: \n",
    "\n",
    "x_axis = np.arange(len(state_df))\n",
    "\n",
    "# plt.figure(figsize=(20,3))\n",
    "fig = plt.figure(figsize=(10,5))\n",
    "plt.bar(x_axis, state_df, color='r', alpha=0.5, align=\"center\")\n",
    "\n",
    "tick_locations = [value for value in x_axis]\n",
    "plt.xticks(tick_locations, [\"NV\", \"OK\", \"NM\", \"UT\", \"WV\", \"GA\", \"SC\", \"TX\", \"IA\", \n",
    "                            \"IN\"], rotation=0)\n",
    "\n",
    "plt.title(\"Average Restaurant Rating of Bottom Ten States\")\n",
    "plt.xlabel(\"Bottom Ten States\")\n",
    "plt.ylabel(\"Average Rating (mean)\")\n",
    "plt.savefig(\"Images/bottom_10_state_ratings.png\")"
   ]
  },
  {
   "cell_type": "code",
   "execution_count": 76,
   "metadata": {},
   "outputs": [
    {
     "data": {
      "text/plain": [
       "City\n",
       "Allons             5.0\n",
       "Baileyville        5.0\n",
       "Bluebell           5.0\n",
       "Carpentersville    5.0\n",
       "Constableville     5.0\n",
       "Harrington         5.0\n",
       "Jetmore            5.0\n",
       "Red Lake Falls     5.0\n",
       "Stockdale          5.0\n",
       "Apple Springs      4.9\n",
       "Name: Rating, dtype: float64"
      ]
     },
     "execution_count": 76,
     "metadata": {},
     "output_type": "execute_result"
    }
   ],
   "source": [
    "# Use groupby to calculate the 10 cities with the highest ratings  \n",
    "\n",
    "city_df = data_df.groupby(['City'])['Rating'].mean().nlargest(10)\n",
    "city_df"
   ]
  },
  {
   "cell_type": "code",
   "execution_count": 78,
   "metadata": {},
   "outputs": [
    {
     "data": {
      "text/plain": [
       "Text(0, 0.5, 'Average Rating (mean)')"
      ]
     },
     "execution_count": 78,
     "metadata": {},
     "output_type": "execute_result"
    },
    {
     "data": {
      "image/png": "[encoded data removed]",
      "text/plain": [
       "<Figure size 720x360 with 1 Axes>"
      ]
     },
     "metadata": {
      "needs_background": "light"
     },
     "output_type": "display_data"
    }
   ],
   "source": [
    "# Plot the 10 cities with the highest ratings using a bar chart: \n",
    "\n",
    "x_axis = np.arange(len(city_df))\n",
    "\n",
    "# plt.figure(figsize=(20,3))\n",
    "fig = plt.figure(figsize=(10,5))\n",
    "plt.bar(x_axis, city_df, color='b', alpha=0.5, align=\"center\")\n",
    "\n",
    "tick_locations = [value for value in x_axis]\n",
    "plt.xticks(tick_locations, [\"Allons\", \"Baileyville\", \"Bluebell\", \"Carpentersville\", \"Constableville\", \"Harrington\", \"Jetmore\", \"Red Lake Falls\", \"Stockdale\", \n",
    "                            \"Apple Springs\"], rotation=90)\n",
    "\n",
    "plt.title(\"Average Restaurant Rating of Top Ten Cities\")\n",
    "plt.xlabel(\"Cities\")\n",
    "plt.ylabel(\"Average Rating (mean)\")"
   ]
  },
  {
   "cell_type": "code",
   "execution_count": 80,
   "metadata": {},
   "outputs": [
    {
     "data": {
      "text/plain": [
       "State\n",
       " AL    4.074656\n",
       " AR    4.092162\n",
       " AZ    4.091147\n",
       " CA    4.145135\n",
       " CO    4.103232\n",
       " CT    4.111111\n",
       " DC    4.337500\n",
       " DE    4.119048\n",
       " FL    4.172715\n",
       " GA    4.043026\n",
       " IA    4.062953\n",
       " ID    4.185987\n",
       " IL    4.139698\n",
       " IN    4.067681\n",
       " KS    4.105586\n",
       " KY    4.076336\n",
       " LA    4.127273\n",
       " MA    4.250617\n",
       " MD    4.203509\n",
       " ME    4.202959\n",
       " MI    4.110583\n",
       " MN    4.160650\n",
       " MO    4.109623\n",
       " MS    4.068493\n",
       " MT    4.181062\n",
       " NC    4.080090\n",
       " ND    4.091837\n",
       " NE    4.147304\n",
       " NH    4.202273\n",
       " NJ    4.302439\n",
       " NM    4.024576\n",
       " NV    3.981081\n",
       " NY    4.143854\n",
       " OH    4.109434\n",
       " OK    4.011724\n",
       " OR    4.174561\n",
       " PA    4.165986\n",
       " RI    4.300000\n",
       " SC    4.047773\n",
       " SD    4.181724\n",
       " TN    4.069944\n",
       " TX    4.062226\n",
       " UT    4.032362\n",
       " VA    4.071601\n",
       " VT    4.297917\n",
       " WA    4.098826\n",
       " WI    4.116404\n",
       " WV    4.040940\n",
       " WY    4.107547\n",
       "Name: Rating, dtype: float64"
      ]
     },
     "execution_count": 80,
     "metadata": {},
     "output_type": "execute_result"
    }
   ],
   "source": [
    "# Table of State Restuarat Ratings\n",
    "all_state_df = data_df.groupby(['State'])['Rating'].mean()\n",
    "all_state_df"
   ]
  },
  {
   "cell_type": "code",
   "execution_count": 10,
   "metadata": {},
   "outputs": [
    {
     "data": {
      "image/png": "[encoded data removed]",
      "text/plain": [
       "<Figure size 720x360 with 1 Axes>"
      ]
     },
     "metadata": {
      "needs_background": "light"
     },
     "output_type": "display_data"
    }
   ],
   "source": [
    "# Define the scatter plot variables\n",
    "x_axis = data_df['Rating']\n",
    "price = data_df['Price range']\n",
    "\n",
    "# Set tick intervals\n",
    "x = [1,2,3,4,5]\n",
    "y = [0,1,2,3,4]\n",
    "\n",
    "# Display the plot title and the axis labels\n",
    "fig = plt.figure(figsize=(10,5))\n",
    "plt.title(\"Avgerage Restaurant Rating vs Price Range\")\n",
    "plt.xlabel(\"Avgerage Rating\")\n",
    "plt.ylabel(\"Price Range\")\n",
    "plt.xticks(np.arange(min(x), max(x)+1, 1.0))\n",
    "plt.yticks(np.arange(min(y), max(x)+1, 1.0))\n",
    "\n",
    "# Display the scatter plot\n",
    "plt.scatter(x_axis, price, marker=\"o\", color=\"red\")\n",
    "plt.savefig(\"Images/ratings_vs_price.png\")"
   ]
  }
 ],
 "metadata": {
  "anaconda-cloud": {},
  "kernelspec": {
   "display_name": "Python 3",
   "language": "python",
   "name": "python3"
  },
  "language_info": {
   "codemirror_mode": {
    "name": "ipython",
    "version": 3
   },
   "file_extension": ".py",
   "mimetype": "text/x-python",
   "name": "python",
   "nbconvert_exporter": "python",
   "pygments_lexer": "ipython3",
   "version": "3.8.3"
  }
 },
 "nbformat": 4,
 "nbformat_minor": 4
}
