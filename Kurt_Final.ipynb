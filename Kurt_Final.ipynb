{
 "cells": [
  {
   "cell_type": "code",
   "execution_count": 17,
   "metadata": {},
   "outputs": [],
   "source": [
    "# Dependencies and Setup\n",
    "import matplotlib.pyplot as plt\n",
    "import matplotlib.mlab as mlab\n",
    "import pandas as pd\n",
    "import scipy.stats as st\n",
    "import numpy as np"
   ]
  },
  {
   "cell_type": "code",
   "execution_count": 44,
   "metadata": {},
   "outputs": [
    {
     "data": {
      "text/html": [
       "<div>\n",
       "<style scoped>\n",
       "    .dataframe tbody tr th:only-of-type {\n",
       "        vertical-align: middle;\n",
       "    }\n",
       "\n",
       "    .dataframe tbody tr th {\n",
       "        vertical-align: top;\n",
       "    }\n",
       "\n",
       "    .dataframe thead th {\n",
       "        text-align: right;\n",
       "    }\n",
       "</style>\n",
       "<table border=\"1\" class=\"dataframe\">\n",
       "  <thead>\n",
       "    <tr style=\"text-align: right;\">\n",
       "      <th></th>\n",
       "      <th>Place ID</th>\n",
       "      <th>Name</th>\n",
       "      <th>Latitude</th>\n",
       "      <th>Longitude</th>\n",
       "      <th>Address</th>\n",
       "      <th>Rating</th>\n",
       "      <th>Ratings count</th>\n",
       "      <th>Price range</th>\n",
       "      <th>City</th>\n",
       "      <th>State</th>\n",
       "      <th>Country</th>\n",
       "      <th>0</th>\n",
       "      <th>Number</th>\n",
       "    </tr>\n",
       "  </thead>\n",
       "  <tbody>\n",
       "    <tr>\n",
       "      <th>0</th>\n",
       "      <td>ChIJZQ6BEXZe14AR6olrRzitFFc</td>\n",
       "      <td>Subway</td>\n",
       "      <td>32.849288</td>\n",
       "      <td>-115.569706</td>\n",
       "      <td>RCXJ+P4 Imperial, CA, USA</td>\n",
       "      <td>4.2</td>\n",
       "      <td>72</td>\n",
       "      <td>1</td>\n",
       "      <td>Imperial</td>\n",
       "      <td>CA</td>\n",
       "      <td>USA</td>\n",
       "      <td>None</td>\n",
       "      <td>RCXJ+P4</td>\n",
       "    </tr>\n",
       "    <tr>\n",
       "      <th>1</th>\n",
       "      <td>ChIJG3vjvDda14ARQQpdsyPpiZM</td>\n",
       "      <td>Subway</td>\n",
       "      <td>32.962409</td>\n",
       "      <td>-115.545849</td>\n",
       "      <td>XF63+XM Brawley, CA, USA</td>\n",
       "      <td>3.9</td>\n",
       "      <td>24</td>\n",
       "      <td>1</td>\n",
       "      <td>Brawley</td>\n",
       "      <td>CA</td>\n",
       "      <td>USA</td>\n",
       "      <td>None</td>\n",
       "      <td>XF63+XM</td>\n",
       "    </tr>\n",
       "    <tr>\n",
       "      <th>2</th>\n",
       "      <td>ChIJ65WooQpe14ARe5yAyhIps28</td>\n",
       "      <td>Maranatha Steakhouse</td>\n",
       "      <td>32.841779</td>\n",
       "      <td>-115.568291</td>\n",
       "      <td>RCRJ+PM Imperial, CA, USA</td>\n",
       "      <td>4.5</td>\n",
       "      <td>310</td>\n",
       "      <td>2</td>\n",
       "      <td>Imperial</td>\n",
       "      <td>CA</td>\n",
       "      <td>USA</td>\n",
       "      <td>None</td>\n",
       "      <td>RCRJ+PM</td>\n",
       "    </tr>\n",
       "    <tr>\n",
       "      <th>3</th>\n",
       "      <td>ChIJP646YhRa14ARqb8dCyn0i5s</td>\n",
       "      <td>Pizza Hut</td>\n",
       "      <td>32.978951</td>\n",
       "      <td>-115.547330</td>\n",
       "      <td>XFH3+H3 Brawley, CA, USA</td>\n",
       "      <td>4.2</td>\n",
       "      <td>257</td>\n",
       "      <td>1</td>\n",
       "      <td>Brawley</td>\n",
       "      <td>CA</td>\n",
       "      <td>USA</td>\n",
       "      <td>None</td>\n",
       "      <td>XFH3+H3</td>\n",
       "    </tr>\n",
       "    <tr>\n",
       "      <th>4</th>\n",
       "      <td>ChIJH3Qkemla14ARaPGcgMIywEM</td>\n",
       "      <td>Little Caesars Pizza</td>\n",
       "      <td>32.978710</td>\n",
       "      <td>-115.537636</td>\n",
       "      <td>XFH6+FW Brawley, CA, USA</td>\n",
       "      <td>4.4</td>\n",
       "      <td>193</td>\n",
       "      <td>1</td>\n",
       "      <td>Brawley</td>\n",
       "      <td>CA</td>\n",
       "      <td>USA</td>\n",
       "      <td>None</td>\n",
       "      <td>XFH6+FW</td>\n",
       "    </tr>\n",
       "    <tr>\n",
       "      <th>...</th>\n",
       "      <td>...</td>\n",
       "      <td>...</td>\n",
       "      <td>...</td>\n",
       "      <td>...</td>\n",
       "      <td>...</td>\n",
       "      <td>...</td>\n",
       "      <td>...</td>\n",
       "      <td>...</td>\n",
       "      <td>...</td>\n",
       "      <td>...</td>\n",
       "      <td>...</td>\n",
       "      <td>...</td>\n",
       "      <td>...</td>\n",
       "    </tr>\n",
       "    <tr>\n",
       "      <th>33969</th>\n",
       "      <td>ChIJIySXp6-t1oYRtZjbmxiHX80</td>\n",
       "      <td>Subway</td>\n",
       "      <td>31.364264</td>\n",
       "      <td>-110.941297</td>\n",
       "      <td>9375+PF Nogales, AZ, USA</td>\n",
       "      <td>4.3</td>\n",
       "      <td>139</td>\n",
       "      <td>1</td>\n",
       "      <td>Nogales</td>\n",
       "      <td>AZ</td>\n",
       "      <td>USA</td>\n",
       "      <td>None</td>\n",
       "      <td>9375+PF</td>\n",
       "    </tr>\n",
       "    <tr>\n",
       "      <th>33970</th>\n",
       "      <td>ChIJr1R0p6-t1oYRcBIFc2WNaNM</td>\n",
       "      <td>Little Caesars Pizza</td>\n",
       "      <td>31.364300</td>\n",
       "      <td>-110.941260</td>\n",
       "      <td>9375+PF Nogales, AZ, USA</td>\n",
       "      <td>3.8</td>\n",
       "      <td>218</td>\n",
       "      <td>1</td>\n",
       "      <td>Nogales</td>\n",
       "      <td>AZ</td>\n",
       "      <td>USA</td>\n",
       "      <td>None</td>\n",
       "      <td>9375+PF</td>\n",
       "    </tr>\n",
       "    <tr>\n",
       "      <th>33971</th>\n",
       "      <td>ChIJPYr3nq-t1oYREZG2HnWHtfQ</td>\n",
       "      <td>McDonald's</td>\n",
       "      <td>31.366891</td>\n",
       "      <td>-110.939697</td>\n",
       "      <td>9386+Q4 Nogales, AZ, USA</td>\n",
       "      <td>4.1</td>\n",
       "      <td>1640</td>\n",
       "      <td>1</td>\n",
       "      <td>Nogales</td>\n",
       "      <td>AZ</td>\n",
       "      <td>USA</td>\n",
       "      <td>None</td>\n",
       "      <td>9386+Q4</td>\n",
       "    </tr>\n",
       "    <tr>\n",
       "      <th>33972</th>\n",
       "      <td>ChIJJY8bXC2s1oYR5Hz3sDrizpc</td>\n",
       "      <td>Gariola Coffee House</td>\n",
       "      <td>31.366276</td>\n",
       "      <td>-110.934318</td>\n",
       "      <td>9388+G7 Nogales, AZ, USA</td>\n",
       "      <td>4.7</td>\n",
       "      <td>99</td>\n",
       "      <td>2</td>\n",
       "      <td>Nogales</td>\n",
       "      <td>AZ</td>\n",
       "      <td>USA</td>\n",
       "      <td>None</td>\n",
       "      <td>9388+G7</td>\n",
       "    </tr>\n",
       "    <tr>\n",
       "      <th>33973</th>\n",
       "      <td>ChIJL1pH1BKt1oYRiOpPFXDdW9M</td>\n",
       "      <td>FinitosÂ®</td>\n",
       "      <td>31.346552</td>\n",
       "      <td>-110.927278</td>\n",
       "      <td>83WF+J3 Nogales, AZ, USA</td>\n",
       "      <td>4.8</td>\n",
       "      <td>214</td>\n",
       "      <td>1</td>\n",
       "      <td>Nogales</td>\n",
       "      <td>AZ</td>\n",
       "      <td>USA</td>\n",
       "      <td>None</td>\n",
       "      <td>83WF+J3</td>\n",
       "    </tr>\n",
       "  </tbody>\n",
       "</table>\n",
       "<p>33974 rows × 13 columns</p>\n",
       "</div>"
      ],
      "text/plain": [
       "                          Place ID                  Name   Latitude  \\\n",
       "0      ChIJZQ6BEXZe14AR6olrRzitFFc                Subway  32.849288   \n",
       "1      ChIJG3vjvDda14ARQQpdsyPpiZM                Subway  32.962409   \n",
       "2      ChIJ65WooQpe14ARe5yAyhIps28  Maranatha Steakhouse  32.841779   \n",
       "3      ChIJP646YhRa14ARqb8dCyn0i5s             Pizza Hut  32.978951   \n",
       "4      ChIJH3Qkemla14ARaPGcgMIywEM  Little Caesars Pizza  32.978710   \n",
       "...                            ...                   ...        ...   \n",
       "33969  ChIJIySXp6-t1oYRtZjbmxiHX80                Subway  31.364264   \n",
       "33970  ChIJr1R0p6-t1oYRcBIFc2WNaNM  Little Caesars Pizza  31.364300   \n",
       "33971  ChIJPYr3nq-t1oYREZG2HnWHtfQ            McDonald's  31.366891   \n",
       "33972  ChIJJY8bXC2s1oYR5Hz3sDrizpc  Gariola Coffee House  31.366276   \n",
       "33973  ChIJL1pH1BKt1oYRiOpPFXDdW9M             FinitosÂ®  31.346552   \n",
       "\n",
       "        Longitude                    Address  Rating  Ratings count  \\\n",
       "0     -115.569706  RCXJ+P4 Imperial, CA, USA     4.2             72   \n",
       "1     -115.545849   XF63+XM Brawley, CA, USA     3.9             24   \n",
       "2     -115.568291  RCRJ+PM Imperial, CA, USA     4.5            310   \n",
       "3     -115.547330   XFH3+H3 Brawley, CA, USA     4.2            257   \n",
       "4     -115.537636   XFH6+FW Brawley, CA, USA     4.4            193   \n",
       "...           ...                        ...     ...            ...   \n",
       "33969 -110.941297   9375+PF Nogales, AZ, USA     4.3            139   \n",
       "33970 -110.941260   9375+PF Nogales, AZ, USA     3.8            218   \n",
       "33971 -110.939697   9386+Q4 Nogales, AZ, USA     4.1           1640   \n",
       "33972 -110.934318   9388+G7 Nogales, AZ, USA     4.7             99   \n",
       "33973 -110.927278   83WF+J3 Nogales, AZ, USA     4.8            214   \n",
       "\n",
       "       Price range      City State Country     0   Number  \n",
       "0                1  Imperial    CA     USA  None  RCXJ+P4  \n",
       "1                1   Brawley    CA     USA  None  XF63+XM  \n",
       "2                2  Imperial    CA     USA  None  RCRJ+PM  \n",
       "3                1   Brawley    CA     USA  None  XFH3+H3  \n",
       "4                1   Brawley    CA     USA  None  XFH6+FW  \n",
       "...            ...       ...   ...     ...   ...      ...  \n",
       "33969            1   Nogales    AZ     USA  None  9375+PF  \n",
       "33970            1   Nogales    AZ     USA  None  9375+PF  \n",
       "33971            1   Nogales    AZ     USA  None  9386+Q4  \n",
       "33972            2   Nogales    AZ     USA  None  9388+G7  \n",
       "33973            1   Nogales    AZ     USA  None  83WF+J3  \n",
       "\n",
       "[33974 rows x 13 columns]"
      ]
     },
     "execution_count": 44,
     "metadata": {},
     "output_type": "execute_result"
    }
   ],
   "source": [
    "# Read the final restaurant data\n",
    "# Split the \"Address\" column into \"City\", \"State\" and \"Country\"\n",
    "data_df = pd.read_csv('Resources/LargeSample.csv')\n",
    "data_df[[\"City\",'State','Country','0']] = data_df['Address'].str.split(',',expand=True)\n",
    "data_df[[\"Number\",'City']] = data_df['City'].str.split(' ',expand=True, n=1)\n",
    "data_df"
   ]
  },
  {
   "cell_type": "code",
   "execution_count": 46,
   "metadata": {},
   "outputs": [
    {
     "data": {
      "text/plain": [
       "Place ID         33974\n",
       "Name             33974\n",
       "Latitude         33974\n",
       "Longitude        33974\n",
       "Address          33974\n",
       "Rating           33974\n",
       "Ratings count    33974\n",
       "Price range      33974\n",
       "City             33974\n",
       "State            33974\n",
       "Country          33974\n",
       "0                  333\n",
       "Number           33974\n",
       "dtype: int64"
      ]
     },
     "execution_count": 46,
     "metadata": {},
     "output_type": "execute_result"
    }
   ],
   "source": [
    "# Checking the total number of rows.\n",
    "data_df.count()"
   ]
  },
  {
   "cell_type": "code",
   "execution_count": 52,
   "metadata": {},
   "outputs": [
    {
     "data": {
      "text/plain": [
       "Country\n",
       " LA    4.500000\n",
       " PA    4.500000\n",
       " NJ    4.466667\n",
       " MI    4.426667\n",
       " MD    4.400000\n",
       " RI    4.400000\n",
       " CA    4.386957\n",
       " VT    4.381818\n",
       " OR    4.363158\n",
       " AR    4.266667\n",
       "Name: Rating, dtype: float64"
      ]
     },
     "execution_count": 52,
     "metadata": {},
     "output_type": "execute_result"
    }
   ],
   "source": [
    "# Generate a summary statistics table of mean, median, variance, standard deviation,\n",
    "#   and SEM of the Ratings for each State\n",
    "\n",
    "# Use groupby and summary statistical methods to calculate the following properties \n",
    "#   of each State: \n",
    "\n",
    "state_df = data_df.groupby(['Country'])['Rating'].mean().nlargest(10)\n",
    "state_df"
   ]
  },
  {
   "cell_type": "code",
   "execution_count": 56,
   "metadata": {},
   "outputs": [
    {
     "data": {
      "text/plain": [
       "Text(0, 0.5, 'Average Rating (mean)')"
      ]
     },
     "execution_count": 56,
     "metadata": {},
     "output_type": "execute_result"
    },
    {
     "data": {
      "image/png": "[encoded data removed]",
      "text/plain": [
       "<Figure size 720x360 with 1 Axes>"
      ]
     },
     "metadata": {
      "needs_background": "light"
     },
     "output_type": "display_data"
    }
   ],
   "source": [
    "# Generate a bar plot showing the median rating of each state using pyplot.\n",
    "\n",
    "x_axis = np.arange(len(state_df))\n",
    "\n",
    "# plt.figure(figsize=(20,3))\n",
    "fig = plt.figure(figsize=(10,5))\n",
    "plt.bar(x_axis, state_df, color='b', alpha=0.5, align=\"center\")\n",
    "\n",
    "tick_locations = [value for value in x_axis]\n",
    "plt.xticks(tick_locations, [\"LA\", \"PA\", \"NJ\", \"MI\", \"MD\", \"RI\", \"CA\", \"VT\", \"OR\", \n",
    "                            \"AR\"], rotation=0)\n",
    "\n",
    "plt.title(\"Average Restaurant Rating of Top Ten States\")\n",
    "plt.xlabel(\"Top Ten States\")\n",
    "plt.ylabel(\"Average Rating (mean)\")"
   ]
  },
  {
   "cell_type": "code",
   "execution_count": 50,
   "metadata": {},
   "outputs": [
    {
     "data": {
      "text/plain": [
       "Country\n",
       " IN    3.400000\n",
       " NC    3.728571\n",
       " NY    3.833333\n",
       " TN    3.900000\n",
       " UT    3.950000\n",
       " NM    4.000000\n",
       " AZ    4.031818\n",
       " CT    4.066667\n",
       " FL    4.067742\n",
       " NV    4.083333\n",
       "Name: Rating, dtype: float64"
      ]
     },
     "execution_count": 50,
     "metadata": {},
     "output_type": "execute_result"
    }
   ],
   "source": [
    "# Generate a summary statistics table of mean, median, variance, standard deviation,\n",
    "#   and SEM of the Ratings for each State\n",
    "\n",
    "# Use groupby and summary statistical methods to calculate the following properties \n",
    "#   of each State: \n",
    "\n",
    "state_df = data_df.groupby(['Country'])['Rating'].mean().nsmallest(10)\n",
    "state_df"
   ]
  },
  {
   "cell_type": "code",
   "execution_count": 58,
   "metadata": {},
   "outputs": [
    {
     "data": {
      "text/plain": [
       "Text(0, 0.5, 'Average Rating (mean)')"
      ]
     },
     "execution_count": 58,
     "metadata": {},
     "output_type": "execute_result"
    },
    {
     "data": {
      "image/png": "[encoded data removed]",
      "text/plain": [
       "<Figure size 720x360 with 1 Axes>"
      ]
     },
     "metadata": {
      "needs_background": "light"
     },
     "output_type": "display_data"
    }
   ],
   "source": [
    "# Generate a bar plot showing the median rating of each state using pyplot.\n",
    "\n",
    "x_axis = np.arange(len(state_df))\n",
    "\n",
    "# plt.figure(figsize=(20,3))\n",
    "fig = plt.figure(figsize=(10,5))\n",
    "plt.bar(x_axis, state_df, color='r', alpha=0.5, align=\"center\")\n",
    "\n",
    "tick_locations = [value for value in x_axis]\n",
    "plt.xticks(tick_locations, [\"NV\", \"FL\", \"CT\", \"AZ\", \"NM\", \"UT\", \"TN\", \"NY\", \"NC\", \n",
    "                            \"IN\"], rotation=0)\n",
    "\n",
    "plt.title(\"Average Restaurant Rating of Bottom Ten States\")\n",
    "plt.xlabel(\"Bottom Ten States\")\n",
    "plt.ylabel(\"Average Rating (mean)\")"
   ]
  },
  {
   "cell_type": "code",
   "execution_count": 34,
   "metadata": {},
   "outputs": [
    {
     "data": {
      "text/plain": [
       "City\n",
       "Allons             5.0\n",
       "Baileyville        5.0\n",
       "Bluebell           5.0\n",
       "Carpentersville    5.0\n",
       "Constableville     5.0\n",
       "Harrington         5.0\n",
       "Jetmore            5.0\n",
       "Red Lake Falls     5.0\n",
       "Stockdale          5.0\n",
       "Apple Springs      4.9\n",
       "Name: Rating, dtype: float64"
      ]
     },
     "execution_count": 34,
     "metadata": {},
     "output_type": "execute_result"
    }
   ],
   "source": [
    "# Generate a summary statistics table of mean, median, variance, standard deviation,\n",
    "#   and SEM of the Ratings for each State\n",
    "\n",
    "# Use groupby and summary statistical methods to calculate the following properties \n",
    "#   of each State: \n",
    "\n",
    "city_df = data_df.groupby(['City'])['Rating'].mean().nlargest(10)\n",
    "city_df"
   ]
  },
  {
   "cell_type": "code",
   "execution_count": 59,
   "metadata": {},
   "outputs": [
    {
     "data": {
      "text/plain": [
       "Text(0, 0.5, 'Average Rating (mean)')"
      ]
     },
     "execution_count": 59,
     "metadata": {},
     "output_type": "execute_result"
    },
    {
     "data": {
      "image/png": "[encoded data removed]",
      "text/plain": [
       "<Figure size 720x360 with 1 Axes>"
      ]
     },
     "metadata": {
      "needs_background": "light"
     },
     "output_type": "display_data"
    }
   ],
   "source": [
    "# Generate a bar plot showing the median rating of each state using pyplot.\n",
    "\n",
    "x_axis = np.arange(len(city_df))\n",
    "\n",
    "# plt.figure(figsize=(20,3))\n",
    "fig = plt.figure(figsize=(10,5))\n",
    "plt.bar(x_axis, city_df, color='b', alpha=0.5, align=\"center\")\n",
    "\n",
    "tick_locations = [value for value in x_axis]\n",
    "plt.xticks(tick_locations, [\"Augustine\", \"Blanco\", \"Cowiche\", \"Ilderton\", \"Jordan\", \"Woodlake\", \"Wier\", \"Hye\", \"NM\", \n",
    "                            \"Badger\", \"MS\", \"Driscoll\"], rotation=0)\n",
    "\n",
    "plt.title(\"Average Restaurant Rating of Top Ten Cities\")\n",
    "plt.xlabel(\"Cities\")\n",
    "plt.ylabel(\"Average Rating (mean)\")"
   ]
  },
  {
   "cell_type": "code",
   "execution_count": 10,
   "metadata": {},
   "outputs": [],
   "source": [
    "# Table of Std Dev of State Restuarat Ratings"
   ]
  },
  {
   "cell_type": "code",
   "execution_count": 36,
   "metadata": {},
   "outputs": [
    {
     "data": {
      "text/plain": [
       "<matplotlib.collections.PathCollection at 0x259f349a0d0>"
      ]
     },
     "execution_count": 36,
     "metadata": {},
     "output_type": "execute_result"
    },
    {
     "data": {
      "image/png": "[encoded data removed]",
      "text/plain": [
       "<Figure size 720x360 with 1 Axes>"
      ]
     },
     "metadata": {
      "needs_background": "light"
     },
     "output_type": "display_data"
    }
   ],
   "source": [
    "# Define the scatter plot variables\n",
    "x_axis = data_df['Rating']\n",
    "price = data_df['Price range']\n",
    "\n",
    "# Set tick intervals\n",
    "x = [1,2,3,4,5]\n",
    "y = [0,1,2,3,4]\n",
    "\n",
    "# Display the plot title and the axis labels\n",
    "fig = plt.figure(figsize=(10,5))\n",
    "plt.title(\"Avgerage Restaurant Rating vs Price Range\")\n",
    "plt.xlabel(\"Avgerage Rating\")\n",
    "plt.ylabel(\"Price Range\")\n",
    "plt.xticks(np.arange(min(x), max(x)+1, 1.0))\n",
    "plt.yticks(np.arange(min(y), max(x)+1, 1.0))\n",
    "\n",
    "# Display the scatter plot\n",
    "plt.scatter(x_axis, price, marker=\"o\", color=\"red\")\n",
    "# plt.show()"
   ]
  },
  {
   "cell_type": "code",
   "execution_count": null,
   "metadata": {},
   "outputs": [],
   "source": []
  }
 ],
 "metadata": {
  "anaconda-cloud": {},
  "kernelspec": {
   "display_name": "Python 3",
   "language": "python",
   "name": "python3"
  },
  "language_info": {
   "codemirror_mode": {
    "name": "ipython",
    "version": 3
   },
   "file_extension": ".py",
   "mimetype": "text/x-python",
   "name": "python",
   "nbconvert_exporter": "python",
   "pygments_lexer": "ipython3",
   "version": "3.8.3"
  }
 },
 "nbformat": 4,
 "nbformat_minor": 4
}
