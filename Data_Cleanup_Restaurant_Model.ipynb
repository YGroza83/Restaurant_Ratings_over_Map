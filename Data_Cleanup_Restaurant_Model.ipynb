{
 "cells": [
  {
   "cell_type": "code",
   "execution_count": 15,
   "metadata": {
    "collapsed": false,
    "deletable": true,
    "editable": true
   },
   "outputs": [],
   "source": [
    "# Dependencies and definitions\n",
    "import random\n",
    "import pandas as pd\n",
    "import numpy as np\n",
    "import requests\n",
    "import json\n",
    "import re\n",
    "import gmaps\n",
    "from config import gkey\n",
    "#https://maps.googleapis.com/maps/api/place/nearbysearch/json?\n",
    "#location=-33.8670522,151.1957362&radius=1500&type=restaurant&keyword=cruise&key=YOUR_API_KEY\n",
    "# Configure gmaps\n",
    "gmaps.configure(api_key=gkey)\n",
    "base_url = \"https://maps.googleapis.com/maps/api/place/nearbysearch/json\"\n",
    "# params = {\n",
    "#      \"location\": \"40.730610,-73.935242\", \n",
    "#      #\"radius\": 15000,\n",
    "#      \"rankby\": \"distance\",\n",
    "#      \"type\": \"restaurant\",\n",
    "#      \"key\": gkey,\n",
    "#      }\n"
   ]
  },
  {
   "cell_type": "code",
   "execution_count": 16,
   "metadata": {
    "collapsed": true,
    "deletable": true,
    "editable": true
   },
   "outputs": [],
   "source": [
    "# Setup empty response holder\n",
    "cities_name = []\n",
    "State = []\n",
    "Latitude = []\n",
    "Longitude = []\n",
    "Place_ID = []\n",
    "Price_range = []\n",
    "Rating = []\n",
    "Ratings_count = []\n",
    "\n",
    "\n"
   ]
  },
  {
   "cell_type": "code",
   "execution_count": 21,
   "metadata": {
    "collapsed": false,
    "deletable": true,
    "editable": true
   },
   "outputs": [
    {
     "name": "stdout",
     "output_type": "stream",
     "text": [
      "-----------------------------\n",
      "Data Retrieval Complete\n",
      "-----------------------------\n"
     ]
    }
   ],
   "source": [
    "# assemble url and make API request\n",
    "# Lower 48 box 25 to 49 -125 to -67\n",
    "\n",
    "for i in range(20):\n",
    "    lat = random.uniform(25.000000001, 49.000000001)\n",
    "    lng = random.uniform(-125.000000001, -67.000000001)\n",
    "    \n",
    "    ll_dot = str(lat) +', ' + str(lng)\n",
    "    \n",
    "    params = {\n",
    "    \"location\": ll_dot,  \n",
    "    \"rankby\": \"distance\",\n",
    "    \"type\": \"restaurant\",\n",
    "    \"key\": gkey,\n",
    "    }\n",
    "    \n",
    "    response = requests.get(base_url, params=params).json()\n",
    "    length_res = (len(response[\"results\"]))\n",
    "    #print(length_res)\n",
    "    # extract results\n",
    "    #print(ll_dot)\n",
    "    # print(json.dumps(response, indent=4, sort_keys=True))\n",
    "    try:        \n",
    "        # Checked in json formatter there are 3-parent attribute, if status=ok then proceed         \n",
    "        \n",
    "                for j in range(len(response[\"results\"])):\n",
    "                                            \n",
    "                    city_state=response[\"results\"][j][\"plus_code\"][\"compound_code\"]\n",
    "                    #print(city_state) \n",
    "                        \n",
    "                    # Using Regular expression(Regex) for slicing city and state\n",
    "                    x = re.findall(\"(\\w*),\", city_state)\n",
    "                    #print(x)\n",
    "                    city = x[0]\n",
    "                    state = x[1]\n",
    "                    #print(city)\n",
    "                    #print(state)\n",
    "                        \n",
    "                    place_id = response[\"results\"][j][\"place_id\"]\n",
    "                    #print(place_id)\n",
    "                    lat = response[\"results\"][j][\"geometry\"][\"location\"][\"lat\"]\n",
    "                    #print(lat)\n",
    "                    lng = response[\"results\"][j][\"geometry\"][\"location\"][\"lng\"]\n",
    "                    #print(lng)\n",
    "                    \n",
    "                    try:\n",
    "                        price_level = response[\"results\"][j][\"price_level\"]\n",
    "                        #print(str(price_level))\n",
    "                    except:\n",
    "                        price_level=0.0\n",
    "                        #print(\"inside except\"+str(price_level))\n",
    "                        \n",
    "                    try:\n",
    "                        rating = response[\"results\"][j][\"rating\"]\n",
    "                        #print(str(rating))\n",
    "                    except:\n",
    "                        rating=0.0\n",
    "                        #print(\"inside except\"+str(rating))\n",
    "                    \n",
    "                    try:\n",
    "                        user_ratings_total = response[\"results\"][j][\"user_ratings_total\"]    \n",
    "                        #print(str(user_ratings_total))    \n",
    "                    except:\n",
    "                        user_ratings_total=0\n",
    "                        #print(\"inside except\"+str(user_ratings_total))               \n",
    "                    \n",
    "                        \n",
    "                        # Empty string check  \n",
    "                    if(\"\" !=city and \"\" !=state and \"\" !=str(place_id) and \"\" !=str(lat) and \"\" !=str(lng)  \n",
    "                       and \"\" !=str(price_level) \n",
    "                       and \"\" !=str(rating) and \"\" !=str(user_ratings_total) ):\n",
    "                        cities_name.append(city)\n",
    "                        State.append(state)\n",
    "                        Place_ID.append(str(place_id))\n",
    "                        Latitude.append(str(lat))\n",
    "                        Longitude.append(str(lng))\n",
    "                        Price_range.append(str(price_level))\n",
    "                        Rating.append(str(rating))\n",
    "                        Ratings_count.append(str(user_ratings_total))\n",
    "                        #print(\"inside\")\n",
    "\n",
    "                        \n",
    "                    \n",
    "                        \n",
    "    except(KeyError, IndexError):\n",
    "        print(\"Data not found. Skipping...\")\n",
    "        continue\n",
    "    \n",
    "print(\"-----------------------------\")\n",
    "print(\"Data Retrieval Complete\")\n",
    "print(\"-----------------------------\")"
   ]
  },
  {
   "cell_type": "code",
   "execution_count": null,
   "metadata": {
    "collapsed": true,
    "deletable": true,
    "editable": true
   },
   "outputs": [],
   "source": []
  },
  {
   "cell_type": "code",
   "execution_count": 23,
   "metadata": {
    "collapsed": false,
    "deletable": true,
    "editable": true,
    "scrolled": true
   },
   "outputs": [
    {
     "data": {
      "text/plain": [
       "City             204\n",
       "Lat              204\n",
       "Lng              204\n",
       "State            204\n",
       "Place_ID         204\n",
       "Price_range      204\n",
       "Rating           204\n",
       "Ratings_count    204\n",
       "dtype: int64"
      ]
     },
     "execution_count": 23,
     "metadata": {},
     "output_type": "execute_result"
    }
   ],
   "source": [
    "# Create a data frame using data retrieved\n",
    "food_ratings_df = pd.DataFrame({ \n",
    "                \"City\" : cities_name,\n",
    "                \"Lat\" : Latitude,\n",
    "                \"Lng\" : Longitude,\n",
    "                \"State\" : State,\n",
    "                \"Place_ID\" : Place_ID,\n",
    "                \"Price_range\" : Price_range,\n",
    "                \"Rating\" : Rating,\n",
    "                \"Ratings_count\" : Ratings_count                              \n",
    "})\n",
    "\n",
    "\n",
    "\n",
    "\n",
    "\n",
    "#food_ratings_df.dropna(inplace=True)\n",
    "food_ratings_df.head(10)\n",
    "food_ratings_df.count()"
   ]
  },
  {
   "cell_type": "code",
   "execution_count": 24,
   "metadata": {
    "collapsed": true,
    "deletable": true,
    "editable": true
   },
   "outputs": [],
   "source": [
    "# Export the city data into a .csv.\n",
    "food_ratings_df.to_csv(\"resturent_output_bkp.csv\", index = False)"
   ]
  },
  {
   "cell_type": "code",
   "execution_count": null,
   "metadata": {
    "collapsed": true
   },
   "outputs": [],
   "source": []
  }
 ],
 "metadata": {
  "kernelspec": {
   "display_name": "Python 3",
   "language": "python",
   "name": "python3"
  },
  "language_info": {
   "codemirror_mode": {
    "name": "ipython",
    "version": 3
   },
   "file_extension": ".py",
   "mimetype": "text/x-python",
   "name": "python",
   "nbconvert_exporter": "python",
   "pygments_lexer": "ipython3",
   "version": "3.6.10"
  }
 },
 "nbformat": 4,
 "nbformat_minor": 4
}
