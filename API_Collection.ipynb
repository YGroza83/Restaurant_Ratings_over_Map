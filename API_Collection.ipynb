{
 "cells": [
  {
   "cell_type": "code",
   "execution_count": 6,
   "metadata": {},
   "outputs": [],
   "source": [
    "# Dependencies and deffinitions\n",
    "import random\n",
    "import pandas as pd\n",
    "import numpy as np\n",
    "import requests\n",
    "import json\n",
    "from config import gkey\n",
    "base_url = \"https://maps.googleapis.com/maps/api/place/nearbysearch/json\"\n",
    "params = {\n",
    "    \"location\": \"35.252828545589864, -80.8561618515021\", \n",
    "    \"radius\": 16000,\n",
    "    \"rankby\": \"distance\",\n",
    "    \"type\": \"restaurant\",\n",
    "    \"key\": gkey,\n",
    "}\n",
    "food_ratings_df=pd.DataFrame(columns =['Place ID','Latitude','Longitude','City','State',\n",
    "                                       'Price range','Rating','Ratings count'])"
   ]
  },
  {
   "cell_type": "code",
   "execution_count": 5,
   "metadata": {},
   "outputs": [
    {
     "name": "stdout",
     "output_type": "stream",
     "text": [
      "41.93587888786564, -119.01959552719164\n",
      "30.819466852389425, -95.91696163818203\n",
      "27.125845147835452, -121.4903161514714\n",
      "27.08146895577522, -116.6454925187087\n",
      "48.40038735724741, -96.13212609809418\n",
      "32.48162008732251, -86.39586255347933\n"
     ]
    }
   ],
   "source": [
    "# assemble url and make API request\n",
    "# Lower 48 box 25 to 49 -125 to -67\n",
    "\n",
    "for i in range(2):\n",
    "    lat = random.uniform(25.000000001, 49.000000001)\n",
    "    lng = random.uniform(-125.000000001, -67.000000001)\n",
    "    ll_dot = str(lat) +', ' + str(lng)\n",
    "    params = {\n",
    "    \"location\": ll_dot,  \n",
    "    \"rankby\": \"distance\",\n",
    "    \"type\": \"restaurant\",\n",
    "    \"key\": gkey,\n",
    "    }\n",
    "    response = requests.get(base_url, params=params).json()\n",
    "    \n",
    "# extract results\n",
    "    print(ll_dot)\n",
    "    #response\n",
    "    for j in range(len(response[results])):\n",
    "        if (response.status_code == 200) and() and():\n",
    "             new_row = {'Place ID':lkhlk;j,\n",
    "                        'Latitude':fgdsdfgs,\n",
    "                        'Longitude':,\n",
    "                        'City':,\n",
    "                        'State':,\n",
    "                        'Price range':,\n",
    "                        'Rating':,\n",
    "                        'Ratings count':}\n",
    "             food_ratings_df = food_ratings_df.append(new_row, ignore_index=True)"
   ]
  },
  {
   "cell_type": "code",
   "execution_count": 7,
   "metadata": {},
   "outputs": [
    {
     "data": {
      "text/html": [
       "<div>\n",
       "<style scoped>\n",
       "    .dataframe tbody tr th:only-of-type {\n",
       "        vertical-align: middle;\n",
       "    }\n",
       "\n",
       "    .dataframe tbody tr th {\n",
       "        vertical-align: top;\n",
       "    }\n",
       "\n",
       "    .dataframe thead th {\n",
       "        text-align: right;\n",
       "    }\n",
       "</style>\n",
       "<table border=\"1\" class=\"dataframe\">\n",
       "  <thead>\n",
       "    <tr style=\"text-align: right;\">\n",
       "      <th></th>\n",
       "      <th>Place ID</th>\n",
       "      <th>Latitude</th>\n",
       "      <th>Longitude</th>\n",
       "      <th>City</th>\n",
       "      <th>State</th>\n",
       "      <th>Price range</th>\n",
       "      <th>Rating</th>\n",
       "      <th>Ratings count</th>\n",
       "    </tr>\n",
       "  </thead>\n",
       "  <tbody>\n",
       "  </tbody>\n",
       "</table>\n",
       "</div>"
      ],
      "text/plain": [
       "Empty DataFrame\n",
       "Columns: [Place ID, Latitude, Longitude, City, State, Price range, Rating, Ratings count]\n",
       "Index: []"
      ]
     },
     "execution_count": 7,
     "metadata": {},
     "output_type": "execute_result"
    }
   ],
   "source": [
    "city_weather_df.to_csv(r'ratings.csv', index = False)\n",
    "food_ratings_df"
   ]
  },
  {
   "cell_type": "code",
   "execution_count": null,
   "metadata": {},
   "outputs": [],
   "source": []
  }
 ],
 "metadata": {
  "kernelspec": {
   "display_name": "Python 3",
   "language": "python",
   "name": "python3"
  },
  "language_info": {
   "codemirror_mode": {
    "name": "ipython",
    "version": 3
   },
   "file_extension": ".py",
   "mimetype": "text/x-python",
   "name": "python",
   "nbconvert_exporter": "python",
   "pygments_lexer": "ipython3",
   "version": "3.8.5"
  }
 },
 "nbformat": 4,
 "nbformat_minor": 4
}
